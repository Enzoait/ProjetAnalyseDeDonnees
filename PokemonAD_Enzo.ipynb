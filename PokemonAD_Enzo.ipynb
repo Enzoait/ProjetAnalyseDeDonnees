{
 "cells": [
  {
   "attachments": {},
   "cell_type": "markdown",
   "metadata": {},
   "source": [
    "Problématique 1 : Le nombre de pokémon par génération."
   ]
  },
  {
   "cell_type": "code",
   "execution_count": 16,
   "metadata": {},
   "outputs": [
    {
     "name": "stdout",
     "output_type": "stream",
     "text": [
      "Génération :         [1 2 3 4 5 6]\n",
      "Nombre de pokémon :  [151 100 135 107 156  72]\n"
     ]
    }
   ],
   "source": [
    "import numpy as np\n",
    "\n",
    "# Ouvrir le fichier csv\n",
    "pokemon_data = np.genfromtxt(\"pokemon.csv\", delimiter=\",\", dtype=str)\n",
    "\n",
    "# Sélectionner les colonnes de génération et l'id de chaque Pokémon\n",
    "\n",
    "pokemon_id = pokemon_data[:,0].astype(int)\n",
    "generation = pokemon_data[:,11].astype(int)\n",
    "\n",
    "#On définit chaque compteur pour chaque génération\n",
    "generation_list = np.zeros((6),dtype=int)\n",
    "compteur_list = np.zeros((6), dtype=int)\n",
    "\n",
    "#Parcourir l'entièreté des Pokémons du fichier csv\n",
    "for i in range(len(generation)):\n",
    "    #Si un Pokémon possède plusieurs formes (et donc apparait plusieurs fois dans la colonne id).\n",
    "    if pokemon_id[i]!=pokemon_id[i-1]:\n",
    "        if generation[i]==1:\n",
    "            compteur_list[0]+=1\n",
    "        if generation[i]==2:\n",
    "            compteur_list[1]+=1\n",
    "        if generation[i]==3:\n",
    "            compteur_list[2]+=1\n",
    "        if generation[i]==4:\n",
    "            compteur_list[3]+=1\n",
    "        if generation[i]==5:\n",
    "            compteur_list[4]+=1\n",
    "        if generation[i]==6:\n",
    "            compteur_list[5]+=1\n",
    "\n",
    "a=0\n",
    "for i in range(6):\n",
    "    a+=1\n",
    "    generation_list[i]+=a      \n",
    "        \n",
    "# Afficher les résultats\n",
    "\n",
    "print(\"Génération :        \",generation_list)\n",
    "\n",
    "print(\"Nombre de pokémon : \",compteur_list)\n"
   ]
  },
  {
   "cell_type": "code",
   "execution_count": 6,
   "metadata": {},
   "outputs": [
    {
     "ename": "ModuleNotFoundError",
     "evalue": "No module named 'numpy'",
     "output_type": "error",
     "traceback": [
      "\u001b[0;31m---------------------------------------------------------------------------\u001b[0m",
      "\u001b[0;31mModuleNotFoundError\u001b[0m                       Traceback (most recent call last)",
      "Cell \u001b[0;32mIn[6], line 1\u001b[0m\n\u001b[0;32m----> 1\u001b[0m \u001b[39mimport\u001b[39;00m \u001b[39mnumpy\u001b[39;00m \u001b[39mas\u001b[39;00m \u001b[39mnp\u001b[39;00m \n\u001b[1;32m      2\u001b[0m \u001b[39mimport\u001b[39;00m \u001b[39mcsv\u001b[39;00m\n\u001b[1;32m      3\u001b[0m data\u001b[39m=\u001b[39m[]\n",
      "\u001b[0;31mModuleNotFoundError\u001b[0m: No module named 'numpy'"
     ]
    }
   ],
   "source": [
    "import numpy as np \n",
    "import csv\n",
    "data=[]\n",
    "with open('pokemon.csv',newline='') as dataset_pokemon:\n",
    "    lecteur=csv.reader(dataset_pokemon,delimiter=',',quotechar='|')\n",
    "    #print(np.array(lecteur))\n",
    "    #print(type(lecteur))\n",
    "    for row in lecteur:\n",
    "        data.append(row)\n",
    "    #data=np.array(data)\n",
    "    #print(data)\n",
    "    dataset_pokemon_1=np.genfromtxt('pokemon.csv',delimiter=',',dtype=None)\n",
    "    np_dataset_pokemon=np.array(dataset_pokemon_1)\n",
    "    print(np_dataset_pokemon)\n",
    "\n",
    "for i in range(len(np_dataset_pokemon)):\n",
    "    generation = np_dataset_pokemon[i][11].astype(int)\n",
    "    id= np_dataset_pokemon[i][0].astype(int)\n",
    "\n",
    "npgeneration= np.array(generation)\n",
    "npid=np.array(id)\n",
    "\n",
    "\n",
    "generation_1=0\n",
    "generation_2=0\n",
    "generation_3=0\n",
    "generation_4=0\n",
    "generation_5=0\n",
    "generation_6=0\n",
    "\n",
    "for i in range(len(np_dataset_pokemon)):\n",
    "    if generation[i][11]==1:\n",
    "        generation_1+=1\n",
    "    if generation[i][11]==2:\n",
    "        generation_2+=1\n",
    "    if generation[i][11]==3:\n",
    "        generation_3+=1\n",
    "    if generation[i][11]==4:\n",
    "        generation_4+=1\n",
    "    if generation[i][11]==5:\n",
    "        generation_5+=1\n",
    "    if generation[i][11]==6:\n",
    "        generation_6+=1\n",
    "\n",
    "print(generation)"
   ]
  }
 ],
 "metadata": {
  "kernelspec": {
   "display_name": "Python 3",
   "language": "python",
   "name": "python3"
  },
  "language_info": {
   "codemirror_mode": {
    "name": "ipython",
    "version": 3
   },
   "file_extension": ".py",
   "mimetype": "text/x-python",
   "name": "python",
   "nbconvert_exporter": "python",
   "pygments_lexer": "ipython3",
   "version": "3.8.16 (default, Jan 10 2023, 15:23:34) \n[GCC 9.4.0]"
  },
  "orig_nbformat": 4,
  "vscode": {
   "interpreter": {
    "hash": "9ac03a0a6051494cc606d484d27d20fce22fb7b4d169f583271e11d5ba46a56e"
   }
  }
 },
 "nbformat": 4,
 "nbformat_minor": 2
}
