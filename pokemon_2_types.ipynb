{
 "cells": [
  {
   "cell_type": "code",
   "execution_count": null,
   "metadata": {},
   "outputs": [],
   "source": [
    "Problematique 2 : Combien y a-t-il de pokemon a double élements"
   ]
  },
  {
   "cell_type": "code",
   "execution_count": 1,
   "metadata": {},
   "outputs": [],
   "source": [
    "import pandas as pd \n",
    "\n",
    "# Charger les données d un fichier CSV avec Pandas\n",
    "data = pd.read_csv('pokemon.csv')\n",
    "\n",
    "# Definir les 6 genrations\n",
    "generations = range(1, 7)\n",
    "\n",
    "# Boucle pour chaque generation\n",
    "for gen in generations:\n",
    "  # Filtrer les donnees pour n'inclure que les Pokemon de la generation en cours\n",
    "  generation_pokemon = data[data['Generation'] == gen]\n",
    "\n",
    "#Comptage des pokemons de type 1 et 2 de la gen en cours\n",
    "count = len(generation_pokemon['Generation'])"
   ]
  }
 ],
 "metadata": {
  "kernelspec": {
   "display_name": "Python 3",
   "language": "python",
   "name": "python3"
  },
  "language_info": {
   "codemirror_mode": {
    "name": "ipython",
    "version": 3
   },
   "file_extension": ".py",
   "mimetype": "text/x-python",
   "name": "python",
   "nbconvert_exporter": "python",
   "pygments_lexer": "ipython3",
   "version": "3.8.16 (default, Jan 10 2023, 15:23:34) \n[GCC 9.4.0]"
  },
  "orig_nbformat": 4,
  "vscode": {
   "interpreter": {
    "hash": "9ac03a0a6051494cc606d484d27d20fce22fb7b4d169f583271e11d5ba46a56e"
   }
  }
 },
 "nbformat": 4,
 "nbformat_minor": 2
}
